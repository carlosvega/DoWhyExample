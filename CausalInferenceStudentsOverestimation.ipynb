{
 "cells": [
  {
   "cell_type": "markdown",
   "id": "a0d4f37f-a9f3-4a90-ba1a-ceee913e5ad7",
   "metadata": {},
   "source": [
    "# Exercise Notes:\n",
    "\n",
    "This exercise exemplifies the use of a first causal model that is WRONG because it leaves out an important variable (either because we don't know about it or because we **believe** it does not have an effect on the outcome).\n",
    "\n",
    "- Our **outcome** again is students' `grades`.\n",
    "- We aim to estimate the causal effect that the \"*treatment*\" `private tutoring` has on students' grades (**effect**).\n",
    "- We **believe** that `study hours` (per week) is the only variable that affects both tutoring and grades (i.e., it is a **confounder**)\n",
    "\n",
    "The exercise will show how to **detect that the model is wrong** and how once corrected it estimates the effect properly.\n",
    "\n",
    "Note: remember that a confounder `Z` affects both the cause `X` and the effect/outcome `Y`."
   ]
  },
  {
   "cell_type": "markdown",
   "id": "941da7b9-e637-41b5-97e0-be157eb29a72",
   "metadata": {},
   "source": [
    "## Code notes: \n",
    "First we install and import the necessary packages."
   ]
  },
  {
   "cell_type": "markdown",
   "id": "8750736f-5626-48ee-a328-329ed7a360ae",
   "metadata": {},
   "source": [
    "%%capture hides cell output"
   ]
  },
  {
   "cell_type": "code",
   "execution_count": 134,
   "id": "12fe5ba5-b46f-4f57-9178-7cfcb20fde4c",
   "metadata": {},
   "outputs": [],
   "source": [
    "%%capture\n",
    "%pip install dowhy matplotlib"
   ]
  },
  {
   "cell_type": "code",
   "execution_count": 135,
   "id": "98e59305-8379-4529-9721-8f90d0a56e12",
   "metadata": {},
   "outputs": [],
   "source": [
    "%matplotlib inline\n",
    "\n",
    "import matplotlib\n",
    "import matplotlib.pyplot as plt\n",
    "import numpy as np\n",
    "import pandas as pd\n",
    "from dowhy import CausalModel"
   ]
  },
  {
   "cell_type": "markdown",
   "id": "4b11977e-93fd-418f-9753-782bd28c8849",
   "metadata": {},
   "source": [
    "## Generate synthetic data\n",
    "\n",
    "We generate a synthetic data with different random values. As you can see parental_involvement is biased with 0.7 prob. assigned to 0 and 0.3 assinged to 1. \n",
    "\n",
    "In the last two lines we fill tutoring and grade as we have synthetically made them to depend on the study hours and parental involvement.\n",
    "\n",
    "Assume that instead of being synthetically created this data was given to you from data collection (e.g. via surveys). "
   ]
  },
  {
   "cell_type": "code",
   "execution_count": 136,
   "id": "caf01017-2de1-40a5-a276-ab20cc130e01",
   "metadata": {},
   "outputs": [],
   "source": [
    "# Generate synthetic data\n",
    "np.random.seed(0)\n",
    "data = pd.DataFrame({\n",
    "    \"study_hours\": np.random.normal(5, 1, 1000),  # Study hours\n",
    "    \"parental_involvement\": np.random.choice([0, 1], size=1000, p=[0.7, 0.3]),  # Parental involvement level\n",
    "    \"tutoring\": np.zeros(1000),  # Placeholder for tutoring\n",
    "    \"grade\": np.zeros(1000)  # Placeholder for grade\n",
    "})\n",
    "\n",
    "# Assume tutoring is influenced by both study hours and parental involvement\n",
    "data[\"tutoring\"] = (data[\"study_hours\"] + 10 * data[\"parental_involvement\"] + np.random.normal(0, 1, 1000) > 6).astype(int)\n",
    "data[\"grade\"] = 50 + 10 * data[\"tutoring\"] + 5 * data[\"study_hours\"] + 10 * data[\"parental_involvement\"] + np.random.normal(0, 2, 1000)"
   ]
  },
  {
   "cell_type": "markdown",
   "id": "4fc8992c-e48e-4d8a-8fac-b27fc10e390f",
   "metadata": {},
   "source": [
    "- Tutoring is a boolean variable, (either 0 or 1) but depends on the number of studying hours and parental involvement + random normal noise.\n",
    "- As you can see in the \"*equation*\" the effect (on the grades) of tutoring is 10 points when true. But parental involvement has also an strong effect."
   ]
  },
  {
   "cell_type": "markdown",
   "id": "be4a85c9-6e9d-44d3-b7ee-68fb51b6e307",
   "metadata": {},
   "source": [
    "Our data shows that having 1s in tutoring don't mean 1s in parental_involvement (or viceversa)"
   ]
  },
  {
   "cell_type": "code",
   "execution_count": 137,
   "id": "49d1aa05-e5c5-4023-920a-087fd2d2c8cb",
   "metadata": {},
   "outputs": [
    {
     "data": {
      "text/html": [
       "<div>\n",
       "<style scoped>\n",
       "    .dataframe tbody tr th:only-of-type {\n",
       "        vertical-align: middle;\n",
       "    }\n",
       "\n",
       "    .dataframe tbody tr th {\n",
       "        vertical-align: top;\n",
       "    }\n",
       "\n",
       "    .dataframe thead th {\n",
       "        text-align: right;\n",
       "    }\n",
       "</style>\n",
       "<table border=\"1\" class=\"dataframe\">\n",
       "  <thead>\n",
       "    <tr style=\"text-align: right;\">\n",
       "      <th></th>\n",
       "      <th>study_hours</th>\n",
       "      <th>parental_involvement</th>\n",
       "      <th>tutoring</th>\n",
       "      <th>grade</th>\n",
       "    </tr>\n",
       "  </thead>\n",
       "  <tbody>\n",
       "    <tr>\n",
       "      <th>990</th>\n",
       "      <td>5.441033</td>\n",
       "      <td>0</td>\n",
       "      <td>1</td>\n",
       "      <td>86.784749</td>\n",
       "    </tr>\n",
       "    <tr>\n",
       "      <th>991</th>\n",
       "      <td>5.178793</td>\n",
       "      <td>0</td>\n",
       "      <td>0</td>\n",
       "      <td>75.005558</td>\n",
       "    </tr>\n",
       "    <tr>\n",
       "      <th>992</th>\n",
       "      <td>4.200578</td>\n",
       "      <td>1</td>\n",
       "      <td>1</td>\n",
       "      <td>92.496516</td>\n",
       "    </tr>\n",
       "    <tr>\n",
       "      <th>993</th>\n",
       "      <td>5.240788</td>\n",
       "      <td>0</td>\n",
       "      <td>0</td>\n",
       "      <td>74.929059</td>\n",
       "    </tr>\n",
       "    <tr>\n",
       "      <th>994</th>\n",
       "      <td>5.289121</td>\n",
       "      <td>1</td>\n",
       "      <td>1</td>\n",
       "      <td>98.189120</td>\n",
       "    </tr>\n",
       "    <tr>\n",
       "      <th>995</th>\n",
       "      <td>5.412871</td>\n",
       "      <td>0</td>\n",
       "      <td>0</td>\n",
       "      <td>77.813355</td>\n",
       "    </tr>\n",
       "    <tr>\n",
       "      <th>996</th>\n",
       "      <td>4.801601</td>\n",
       "      <td>0</td>\n",
       "      <td>0</td>\n",
       "      <td>76.318058</td>\n",
       "    </tr>\n",
       "    <tr>\n",
       "      <th>997</th>\n",
       "      <td>5.094192</td>\n",
       "      <td>1</td>\n",
       "      <td>1</td>\n",
       "      <td>96.811745</td>\n",
       "    </tr>\n",
       "    <tr>\n",
       "      <th>998</th>\n",
       "      <td>3.852389</td>\n",
       "      <td>0</td>\n",
       "      <td>0</td>\n",
       "      <td>67.153054</td>\n",
       "    </tr>\n",
       "    <tr>\n",
       "      <th>999</th>\n",
       "      <td>4.641886</td>\n",
       "      <td>0</td>\n",
       "      <td>0</td>\n",
       "      <td>71.478162</td>\n",
       "    </tr>\n",
       "  </tbody>\n",
       "</table>\n",
       "</div>"
      ],
      "text/plain": [
       "     study_hours  parental_involvement  tutoring      grade\n",
       "990     5.441033                     0         1  86.784749\n",
       "991     5.178793                     0         0  75.005558\n",
       "992     4.200578                     1         1  92.496516\n",
       "993     5.240788                     0         0  74.929059\n",
       "994     5.289121                     1         1  98.189120\n",
       "995     5.412871                     0         0  77.813355\n",
       "996     4.801601                     0         0  76.318058\n",
       "997     5.094192                     1         1  96.811745\n",
       "998     3.852389                     0         0  67.153054\n",
       "999     4.641886                     0         0  71.478162"
      ]
     },
     "execution_count": 137,
     "metadata": {},
     "output_type": "execute_result"
    }
   ],
   "source": [
    "data.tail(10)"
   ]
  },
  {
   "cell_type": "markdown",
   "id": "10a2a0f0-fbe3-4b1b-bf36-e58a493d0dc6",
   "metadata": {},
   "source": [
    "## Creating our initial causal model\n",
    "\n",
    "Below we have our **initial causal model** in which we **wrongly** assume that `parental involvement` does not affect anything else. \n",
    "\n",
    "Again, the reasons for this error could be two:\n",
    "\n",
    "- We don't know about this variable. So we didn't even captured it to begin with (e.g. we didn't ask in the survey). \n",
    "- We captured this variable (but we asked so many things in our survey !) but we believe not to affect the other variables.\n",
    "\n",
    "Note that, whether unknown to us or wrongly assumed by us, variables can be affected by `parental involvement` in reality.\n",
    "\n",
    "The model shows that `study hours` is a **confounder** of both `tutoring` and `grade`."
   ]
  },
  {
   "cell_type": "code",
   "execution_count": 138,
   "id": "007d8465-f550-4d39-9523-aae6322f1e9e",
   "metadata": {},
   "outputs": [
    {
     "data": {
      "image/png": "[encoded data removed]",
      "text/plain": [
       "<Figure size 800x200 with 1 Axes>"
      ]
     },
     "metadata": {},
     "output_type": "display_data"
    }
   ],
   "source": [
    "# Create a causal model excluding parental involvement initially\n",
    "model = CausalModel(\n",
    "    data=data,\n",
    "    treatment=\"tutoring\",\n",
    "    outcome=\"grade\",\n",
    "    common_causes=[\"study_hours\"]\n",
    ")\n",
    "\n",
    "# Visualize the causal graph\n",
    "model.view_model(size=(8,2))\n",
    "plt.tight_layout(w_pad=1)"
   ]
  },
  {
   "cell_type": "markdown",
   "id": "ab93ce2f-e0b7-4c45-b776-19213d343e50",
   "metadata": {},
   "source": [
    "## Initial results\n",
    "\n",
    "Our initial results show an estimated effect of 14.98 meaning that having `private tutoring` is estimated to increase a student’s final `grade` by approximately 17 points.\n",
    "\n",
    "This effect estimate was obtained after controlling for `study hours` but without considering the additional confounder `parental involvement`.\n",
    "\n",
    "At this point we could be naively happy with this result. But what if we are overestimating or underestimating the effect of `tutoring`?"
   ]
  },
  {
   "cell_type": "code",
   "execution_count": 139,
   "id": "9318af6a-8633-43fb-b6bf-af3b2950e291",
   "metadata": {},
   "outputs": [],
   "source": [
    "%%capture\n",
    "# Estimate effect\n",
    "identified_estimand = model.identify_effect()\n",
    "estimate = model.estimate_effect(identified_estimand, method_name=\"backdoor.linear_regression\")"
   ]
  },
  {
   "cell_type": "code",
   "execution_count": 140,
   "id": "12b94c39-ab0d-4324-996a-cc85f492114a",
   "metadata": {},
   "outputs": [
    {
     "name": "stdout",
     "output_type": "stream",
     "text": [
      "Estimated Effect (initial model): 17.585373682989484\n"
     ]
    }
   ],
   "source": [
    "print(\"Estimated Effect (initial model):\", estimate.value)"
   ]
  },
  {
   "cell_type": "markdown",
   "id": "ca04e465-059f-49dc-aa24-62be22542087",
   "metadata": {},
   "source": [
    "### Placebo test\n",
    "\n",
    "The placebo test replaces the actual treatment (in this case, `tutoring`) with a \"placebo\" or random variable that has no relationship to the outcome (final `grade`).\n",
    "\n",
    "**Results and interpretation:**\n",
    "\n",
    "- New effect (0.0): Since the placebo treatment produces a 0 effect on final grades, as expected, it indicates that random noise (from the placebo) does not affect `grades`. This supports the validity of the original model in terms of structural setup.\n",
    "\n",
    "- Original effect (14.98) vs. New effect (0.0): The difference between the estimated effect of 14.98 (when using `tutoring`) and 0.0 (when using a placebo) implies that the observed effect likely stems from a real relationship between `tutoring` and `grades` rather than random bias.\n",
    "\n",
    "- p-value (2.0): This high p-value means there’s no statistically significant effect with the placebo treatment, further suggesting that the original estimate of 14.98 is not due to chance.\n",
    "\n",
    "The placebo test here suggests that the original model’s structure is robust, meaning that the observed effect of tutoring on grades is not due to random bias. However, because this estimate was obtained without adjusting for parental_involvement, **the result could still be biased due to an unmeasured confounder**.\n",
    "\n"
   ]
  },
  {
   "cell_type": "code",
   "execution_count": 141,
   "id": "e92d2eea-7f4b-4ce0-b183-cc581aaad339",
   "metadata": {},
   "outputs": [],
   "source": [
    "%%capture\n",
    "# Perform placebo test\n",
    "refutation = model.refute_estimate(identified_estimand, estimate, method_name=\"placebo_treatment_refuter\")"
   ]
  },
  {
   "cell_type": "code",
   "execution_count": 142,
   "id": "db4fec2c-2ed3-47cb-a54e-61cc0b5fb14d",
   "metadata": {},
   "outputs": [
    {
     "name": "stdout",
     "output_type": "stream",
     "text": [
      "Placebo Test Result: Refute: Use a Placebo Treatment\n",
      "Estimated effect:17.585373682989484\n",
      "New effect:0.0\n",
      "p value:2.0\n",
      "\n"
     ]
    }
   ],
   "source": [
    "print(\"Placebo Test Result:\", refutation)"
   ]
  },
  {
   "cell_type": "markdown",
   "id": "87295133-11d5-4230-bb08-62a54ccac930",
   "metadata": {},
   "source": [
    "### Bootstrap Validation: \n",
    "\n",
    "Does the estimated effect change significantly when we replace the given dataset with bootstrapped samples from the same dataset? (Hint: It should not)\n",
    "\n",
    "The effect does not deviate much from the original estimated effect. Still, something else could be going on."
   ]
  },
  {
   "cell_type": "code",
   "execution_count": 143,
   "id": "41fdc157-c19d-4663-8531-d2f679862b50",
   "metadata": {},
   "outputs": [],
   "source": [
    "%%capture\n",
    "bootstrap_refutation = model.refute_estimate(identified_estimand, estimate, method_name=\"bootstrap_refuter\")"
   ]
  },
  {
   "cell_type": "code",
   "execution_count": 144,
   "id": "9a31eee6-0cbe-4bff-9f98-7afd64408c50",
   "metadata": {},
   "outputs": [
    {
     "name": "stdout",
     "output_type": "stream",
     "text": [
      "Refute: Bootstrap Sample Dataset\n",
      "Estimated effect:17.585373682989484\n",
      "New effect:17.616872980690538\n",
      "p value:0.8\n",
      "\n"
     ]
    }
   ],
   "source": [
    "print(bootstrap_refutation)"
   ]
  },
  {
   "cell_type": "markdown",
   "id": "d236e1e9-0607-4cb9-aa63-d3281ffa4ae7",
   "metadata": {},
   "source": [
    "### Adding an unobserved common cause\n",
    "\n",
    "Add Unobserved Common Causes: How sensitive is the effect estimate when we add an additional common cause (confounder) to the dataset that is correlated with the treatment and the outcome? (Hint: It should not be too sensitive)\n",
    "\n",
    "In this case we see a huge drop. This may indicate that we over estimated the effect of `tutoring` on the `grades` and that we are missing an important confounder."
   ]
  },
  {
   "cell_type": "code",
   "execution_count": 145,
   "id": "122cd37c-2939-4879-986a-f573efdd18d4",
   "metadata": {},
   "outputs": [],
   "source": [
    "%%capture\n",
    "sensitivity_analysis = model.refute_estimate(identified_estimand, estimate, method_name=\"add_unobserved_common_cause\")"
   ]
  },
  {
   "cell_type": "code",
   "execution_count": 146,
   "id": "c0648ab7-7f5a-4199-b9a2-0edb58434be7",
   "metadata": {},
   "outputs": [
    {
     "name": "stdout",
     "output_type": "stream",
     "text": [
      "Refute: Add an Unobserved Common Cause\n",
      "Estimated effect:17.585373682989484\n",
      "New effect:3.0797827732011314\n",
      "\n"
     ]
    }
   ],
   "source": [
    "print(sensitivity_analysis)"
   ]
  },
  {
   "cell_type": "markdown",
   "id": "0fcb2af5-cc47-44d1-bde3-f498f2c56f14",
   "metadata": {},
   "source": [
    "## Rethinking our model\n",
    "\n",
    "We get back to the table and see that we missed an important variable. `Parental involvement`. We either ask the students again or if we already had this variable in our surveys we add it to the model as a confounder affecting the `grades` and the `tutoring`. Note that in \"our reality\" `parental involvement` did not affect `study hours` directly."
   ]
  },
  {
   "cell_type": "code",
   "execution_count": 147,
   "id": "0d436b8f-cb94-4407-97f0-3adc95a60cf7",
   "metadata": {},
   "outputs": [
    {
     "data": {
      "image/png": "[encoded data removed]",
      "text/plain": [
       "<Figure size 800x400 with 1 Axes>"
      ]
     },
     "metadata": {},
     "output_type": "display_data"
    }
   ],
   "source": [
    "# Realize missing confounder: Parental involvement\n",
    "model_with_confounder = CausalModel(\n",
    "    data=data,\n",
    "    treatment=\"tutoring\",\n",
    "    outcome=\"grade\",\n",
    "    common_causes=[\"study_hours\", \"parental_involvement\"]\n",
    ")\n",
    "\n",
    "# Visualize the causal graph\n",
    "model_with_confounder.view_model(size=(8,4))\n",
    "plt.tight_layout()"
   ]
  },
  {
   "cell_type": "code",
   "execution_count": 148,
   "id": "4118ec8d-3f72-405a-b7f4-e9b2c1e319d2",
   "metadata": {},
   "outputs": [],
   "source": [
    "%%capture\n",
    "# Re-estimate with revised model\n",
    "identified_estimand_with_confounder = model_with_confounder.identify_effect()\n",
    "estimate_with_confounder = model_with_confounder.estimate_effect(identified_estimand_with_confounder, method_name=\"backdoor.linear_regression\")"
   ]
  },
  {
   "cell_type": "code",
   "execution_count": 149,
   "id": "74a31c1c-706c-418e-967e-ef5e053bc7d1",
   "metadata": {},
   "outputs": [
    {
     "name": "stdout",
     "output_type": "stream",
     "text": [
      "Estimated Effect (revised model): 10.095828768814414\n"
     ]
    }
   ],
   "source": [
    "print(\"Estimated Effect (revised model):\", estimate_with_confounder.value)"
   ]
  },
  {
   "cell_type": "code",
   "execution_count": null,
   "id": "d3229118-b033-4bb6-8845-7dd3a82381ee",
   "metadata": {},
   "outputs": [],
   "source": []
  }
 ],
 "metadata": {
  "kernelspec": {
   "display_name": "Python 3 (ipykernel)",
   "language": "python",
   "name": "python3"
  },
  "language_info": {
   "codemirror_mode": {
    "name": "ipython",
    "version": 3
   },
   "file_extension": ".py",
   "mimetype": "text/x-python",
   "name": "python",
   "nbconvert_exporter": "python",
   "pygments_lexer": "ipython3",
   "version": "3.12.7"
  }
 },
 "nbformat": 4,
 "nbformat_minor": 5
}
