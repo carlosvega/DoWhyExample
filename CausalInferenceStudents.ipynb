{
 "cells": [
  {
   "cell_type": "markdown",
   "id": "cda9251e-9e3f-486a-ae30-6ee23c94a1b6",
   "metadata": {},
   "source": [
    "%%capture hides cell output"
   ]
  },
  {
   "cell_type": "markdown",
   "id": "63f74d2d-21ab-45c1-aef2-28859ca0c2de",
   "metadata": {},
   "source": [
    "This example illustrates the use of a causal model and causal inference methods to estimate the effect of `study hours` (per week) in the final exam `scores`. Our outcome again is students' scores. We aim to estimate the causal effect that the \"*treatment*\" `study hours` has on students' `scores` (effect). Our beliefs and assumptions are encoded into a causal model. We assume that `study hours` (per week) is directly related to `scores` but also that the `prior knowledge` affects both the effect and the cause (i.e., it is a confounder). For this exercise we will employ Python language and the library [doWhy](https://www.pywhy.org).\n",
    "\n",
    "Three variables:\n",
    "\n",
    "- Study hours\n",
    "- Prior Knowledge\n",
    "- Exam score\n",
    "\n",
    "Assumptions: \n",
    "\n",
    "- Study hours relate with Exam score.\n",
    "- Prior knowledge affects both the study hours and exam score.\n",
    "\n",
    "This example shows how to estimate the effect while controlling for the confounder. Remember that a confounder `Z` affects both the cause `X` and the effect (outcome) `Y`."
   ]
  },
  {
   "cell_type": "code",
   "execution_count": 12,
   "id": "0a5efab9-d523-4e0f-b442-b5c520afd2ae",
   "metadata": {},
   "outputs": [],
   "source": [
    "%%capture\n",
    "%pip install dowhy matplotlib"
   ]
  },
  {
   "cell_type": "code",
   "execution_count": 21,
   "id": "1a60e59b-a843-43f0-9aa1-ceed51f65687",
   "metadata": {},
   "outputs": [],
   "source": [
    "%matplotlib inline\n",
    "\n",
    "import matplotlib\n",
    "import matplotlib.pyplot as plt\n",
    "import numpy as np\n",
    "import pandas as pd\n",
    "import dowhy\n",
    "from dowhy import CausalModel"
   ]
  },
  {
   "cell_type": "markdown",
   "id": "062e4708-2163-4de7-a819-232b22b3c539",
   "metadata": {},
   "source": [
    "## Generate synthetic data\n",
    "\n",
    "Then, we begin by creating a synthetic dataset in which study hours and prior knowledge are random variables normally distributed. Then, exam score is a function of both study hours and prior knowledge. In a real world scenario, we would normally not know about this function because is what we are trying to estimate. Note the values in the function, specifically, the `2 * data[\"study_hours\"]`.\n"
   ]
  },
  {
   "cell_type": "code",
   "execution_count": 68,
   "id": "46ebcb9a-5a9f-45ae-9c48-46c4e4d6e84c",
   "metadata": {},
   "outputs": [],
   "source": [
    "# Generate a synthetic dataset\n",
    "np.random.seed(42)\n",
    "data = pd.DataFrame({\n",
    "    \"study_hours\": np.random.normal(10, 2, 1000),  # Study hours per week\n",
    "    \"prior_knowledge\": np.random.normal(3, 1, 1000),  # Prior knowledge level\n",
    "    \"exam_score\": np.zeros(1000)  # Placeholder for exam score\n",
    "})\n",
    "\n",
    "# Define the relationship: Exam score is influenced by both study hours and prior knowledge\n",
    "data[\"exam_score\"] = 5 + 2 * data[\"study_hours\"] + 5 * data[\"prior_knowledge\"] + np.random.normal(0, 1, 1000) "
   ]
  },
  {
   "cell_type": "code",
   "execution_count": 69,
   "id": "f1434ab6-4e04-4e9a-a510-0e108c6da2ea",
   "metadata": {},
   "outputs": [
    {
     "data": {
      "text/html": [
       "<div>\n",
       "<style scoped>\n",
       "    .dataframe tbody tr th:only-of-type {\n",
       "        vertical-align: middle;\n",
       "    }\n",
       "\n",
       "    .dataframe tbody tr th {\n",
       "        vertical-align: top;\n",
       "    }\n",
       "\n",
       "    .dataframe thead th {\n",
       "        text-align: right;\n",
       "    }\n",
       "</style>\n",
       "<table border=\"1\" class=\"dataframe\">\n",
       "  <thead>\n",
       "    <tr style=\"text-align: right;\">\n",
       "      <th></th>\n",
       "      <th>study_hours</th>\n",
       "      <th>prior_knowledge</th>\n",
       "      <th>exam_score</th>\n",
       "    </tr>\n",
       "  </thead>\n",
       "  <tbody>\n",
       "    <tr>\n",
       "      <th>985</th>\n",
       "      <td>7.683271</td>\n",
       "      <td>3.513085</td>\n",
       "      <td>36.971922</td>\n",
       "    </tr>\n",
       "    <tr>\n",
       "      <th>986</th>\n",
       "      <td>13.006797</td>\n",
       "      <td>3.725096</td>\n",
       "      <td>49.516363</td>\n",
       "    </tr>\n",
       "    <tr>\n",
       "      <th>987</th>\n",
       "      <td>11.754725</td>\n",
       "      <td>3.516178</td>\n",
       "      <td>46.183713</td>\n",
       "    </tr>\n",
       "    <tr>\n",
       "      <th>988</th>\n",
       "      <td>9.558072</td>\n",
       "      <td>2.358518</td>\n",
       "      <td>34.778532</td>\n",
       "    </tr>\n",
       "    <tr>\n",
       "      <th>989</th>\n",
       "      <td>10.053772</td>\n",
       "      <td>3.431923</td>\n",
       "      <td>44.678833</td>\n",
       "    </tr>\n",
       "    <tr>\n",
       "      <th>990</th>\n",
       "      <td>10.416766</td>\n",
       "      <td>3.800410</td>\n",
       "      <td>46.351973</td>\n",
       "    </tr>\n",
       "    <tr>\n",
       "      <th>991</th>\n",
       "      <td>5.916530</td>\n",
       "      <td>3.754291</td>\n",
       "      <td>36.206635</td>\n",
       "    </tr>\n",
       "    <tr>\n",
       "      <th>992</th>\n",
       "      <td>9.505645</td>\n",
       "      <td>4.188913</td>\n",
       "      <td>45.027894</td>\n",
       "    </tr>\n",
       "    <tr>\n",
       "      <th>993</th>\n",
       "      <td>8.636032</td>\n",
       "      <td>3.708304</td>\n",
       "      <td>40.601373</td>\n",
       "    </tr>\n",
       "    <tr>\n",
       "      <th>994</th>\n",
       "      <td>7.996760</td>\n",
       "      <td>3.351448</td>\n",
       "      <td>36.798843</td>\n",
       "    </tr>\n",
       "    <tr>\n",
       "      <th>995</th>\n",
       "      <td>9.437799</td>\n",
       "      <td>4.070150</td>\n",
       "      <td>44.303831</td>\n",
       "    </tr>\n",
       "    <tr>\n",
       "      <th>996</th>\n",
       "      <td>13.595373</td>\n",
       "      <td>2.973479</td>\n",
       "      <td>47.315892</td>\n",
       "    </tr>\n",
       "    <tr>\n",
       "      <th>997</th>\n",
       "      <td>11.281686</td>\n",
       "      <td>2.118125</td>\n",
       "      <td>36.912238</td>\n",
       "    </tr>\n",
       "    <tr>\n",
       "      <th>998</th>\n",
       "      <td>8.857642</td>\n",
       "      <td>2.836933</td>\n",
       "      <td>37.234126</td>\n",
       "    </tr>\n",
       "    <tr>\n",
       "      <th>999</th>\n",
       "      <td>11.145166</td>\n",
       "      <td>2.255097</td>\n",
       "      <td>38.410559</td>\n",
       "    </tr>\n",
       "  </tbody>\n",
       "</table>\n",
       "</div>"
      ],
      "text/plain": [
       "     study_hours  prior_knowledge  exam_score\n",
       "985     7.683271         3.513085   36.971922\n",
       "986    13.006797         3.725096   49.516363\n",
       "987    11.754725         3.516178   46.183713\n",
       "988     9.558072         2.358518   34.778532\n",
       "989    10.053772         3.431923   44.678833\n",
       "990    10.416766         3.800410   46.351973\n",
       "991     5.916530         3.754291   36.206635\n",
       "992     9.505645         4.188913   45.027894\n",
       "993     8.636032         3.708304   40.601373\n",
       "994     7.996760         3.351448   36.798843\n",
       "995     9.437799         4.070150   44.303831\n",
       "996    13.595373         2.973479   47.315892\n",
       "997    11.281686         2.118125   36.912238\n",
       "998     8.857642         2.836933   37.234126\n",
       "999    11.145166         2.255097   38.410559"
      ]
     },
     "execution_count": 69,
     "metadata": {},
     "output_type": "execute_result"
    }
   ],
   "source": [
    "data.tail(15)"
   ]
  },
  {
   "cell_type": "markdown",
   "id": "d01e638c-9a70-408f-81ed-b6a91badb517",
   "metadata": {},
   "source": [
    "## Create causal model\n",
    "Now, we will define the model and visualize it. "
   ]
  },
  {
   "cell_type": "code",
   "execution_count": 73,
   "id": "e63c9110-dfd5-4c03-aa32-fd7c213f1be5",
   "metadata": {},
   "outputs": [
    {
     "data": {
      "image/png": "[encoded data removed]",
      "text/plain": [
       "<Figure size 800x400 with 1 Axes>"
      ]
     },
     "metadata": {},
     "output_type": "display_data"
    }
   ],
   "source": [
    "# Causal inference model setup\n",
    "model = CausalModel(\n",
    "    data=data,\n",
    "    treatment=\"study_hours\",\n",
    "    outcome=\"exam_score\",\n",
    "    common_causes=[\"prior_knowledge\"]\n",
    ")\n",
    "\n",
    "# Visualize the causal graph\n",
    "model.view_model(layout=\"dot\", size=(8,4))\n",
    "plt.tight_layout(w_pad=1)\n"
   ]
  },
  {
   "cell_type": "markdown",
   "id": "da33acd1-1fb9-4ea5-b76c-50aa0b2c6a05",
   "metadata": {},
   "source": [
    "## Calculate the estimate\n",
    "\n",
    "The backdoor criterion is a method used in causal inference to control for confounders—variables that influence both the treatment and the outcome. By satisfying the backdoor criterion, we aim to isolate the causal effect of the treatment on the outcome by “blocking” other paths of influence.\n",
    "\n",
    "This adjustment is typically done in one of a few statistical ways, such as conditioning, stratification, or regression."
   ]
  },
  {
   "cell_type": "code",
   "execution_count": 74,
   "id": "1662a59f-b13c-4983-9cde-bfa16ba9ef07",
   "metadata": {},
   "outputs": [],
   "source": [
    "%%capture\n",
    "# Identifying and estimating the causal effect\n",
    "identified_estimand = model.identify_effect()\n",
    "estimate = model.estimate_effect(identified_estimand, method_name=\"backdoor.linear_regression\")"
   ]
  },
  {
   "cell_type": "code",
   "execution_count": 75,
   "id": "d6a99620-b24f-4faa-841d-30d01a78a920",
   "metadata": {},
   "outputs": [
    {
     "name": "stdout",
     "output_type": "stream",
     "text": [
      "Causal Estimate of Study Hours on Exam Score: 2.010902911319441\n"
     ]
    }
   ],
   "source": [
    "# Show results\n",
    "print(\"Causal Estimate of Study Hours on Exam Score:\", estimate.value)"
   ]
  },
  {
   "cell_type": "markdown",
   "id": "06efe947-8ea7-4111-9f19-ea0afccb084d",
   "metadata": {},
   "source": [
    "This means that, according to our initial causal model, an additional hour of study per week is estimated to increase the exam score by approximately 2 points. \n",
    "\n",
    "This effect is derived after accounting for the confounder (in this case, prior knowledge) using the backdoor criterion.\n",
    "\n",
    "If this estimate is accurate, it suggests a positive causal relationship between study hours and exam score, where more study hours lead to higher scores."
   ]
  },
  {
   "cell_type": "code",
   "execution_count": 76,
   "id": "05cd7295-7294-41bb-9b15-fd9232d3cf77",
   "metadata": {
    "scrolled": true
   },
   "outputs": [],
   "source": [
    "%%capture\n",
    "# Refutation: placebo test to check robustness of the result\n",
    "refute_result = model.refute_estimate(identified_estimand, estimate, method_name=\"placebo_treatment_refuter\", verbose=0)"
   ]
  },
  {
   "cell_type": "code",
   "execution_count": 77,
   "id": "bb6a7d57-0c6d-44e7-9015-31ee606de4d8",
   "metadata": {},
   "outputs": [
    {
     "name": "stdout",
     "output_type": "stream",
     "text": [
      "Refute: Use a Placebo Treatment\n",
      "Estimated effect:2.010902911319441\n",
      "New effect:0.0\n",
      "p value:2.0\n",
      "\n"
     ]
    }
   ],
   "source": [
    "print(refute_result)"
   ]
  },
  {
   "cell_type": "markdown",
   "id": "db550f43-6fa5-456d-9ab1-825de512be36",
   "metadata": {},
   "source": [
    "The placebo test helps us check if this estimated causal effect could be due to biases in the model rather than a true causal relationship.\n",
    "\n",
    "Here, the test has replaced the actual treatment (study_hours) with a \"placebo\" or random variable that should have no causal effect on the outcome (exam_score).\n",
    "\n",
    "- New effect (0.0): This shows that the placebo treatment has no effect on the outcome, as expected (since it’s a random variable unrelated to exam score).\n",
    "\n",
    "- Original effect (2.01) vs. New effect (0.0): The fact that the original effect remains 2.01 while the placebo effect is 0 suggests that the observed causal effect of study hours on exam score is not due to random bias. Instead, it’s likely a true effect.\n",
    "\n",
    "- p-value (2.0): A high p-value indicates that there is no statistically significant effect with the placebo treatment. This further supports that any observed effect in the placebo scenario is likely due to chance.\n",
    "\n",
    "The placebo test confirms that our causal model appears robust, as it detects no effect when a placebo treatment is used. Therefore, we can have more confidence that the estimated effect of 2.01 is a genuine causal effect of study hours on exam score, rather than an artifact of model bias or unmeasured confounding.\n",
    "\n",
    "These results suggest that our initial model is likely valid, meaning that the relationship we estimated is trustworthy given the data and assumptions.\n",
    "\n",
    "\n",
    "\n",
    "\n",
    "\n",
    "\n"
   ]
  },
  {
   "cell_type": "code",
   "execution_count": null,
   "id": "f6fc9596-a542-42c4-a223-6617c9d0246f",
   "metadata": {},
   "outputs": [],
   "source": []
  }
 ],
 "metadata": {
  "kernelspec": {
   "display_name": "Python 3 (ipykernel)",
   "language": "python",
   "name": "python3"
  },
  "language_info": {
   "codemirror_mode": {
    "name": "ipython",
    "version": 3
   },
   "file_extension": ".py",
   "mimetype": "text/x-python",
   "name": "python",
   "nbconvert_exporter": "python",
   "pygments_lexer": "ipython3",
   "version": "3.12.6"
  }
 },
 "nbformat": 4,
 "nbformat_minor": 5
}
